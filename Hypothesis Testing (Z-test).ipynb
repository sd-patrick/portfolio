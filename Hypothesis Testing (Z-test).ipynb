{
 "cells": [
  {
   "cell_type": "markdown",
   "metadata": {
    "id": "na3XXQqwxk4n"
   },
   "source": [
    "# Hypothesis Testing\n"
   ]
  },
  {
   "cell_type": "code",
   "execution_count": 2,
   "metadata": {},
   "outputs": [
    {
     "name": "stdout",
     "output_type": "stream",
     "text": [
      "Collecting scipy==1.9.1\n",
      "  Downloading scipy-1.9.1-cp39-cp39-macosx_12_0_universal2.macosx_10_9_x86_64.whl (58.4 MB)\n",
      "\u001b[2K     \u001b[90m━━━━━━━━━━━━━━━━━━━━━━━━━━━━━━━━━━━━━━━━\u001b[0m \u001b[32m58.4/58.4 MB\u001b[0m \u001b[31m33.2 MB/s\u001b[0m eta \u001b[36m0:00:00\u001b[0m00:01\u001b[0m00:01\u001b[0m\n",
      "\u001b[?25hRequirement already satisfied: numpy<1.25.0,>=1.18.5 in /opt/anaconda3/lib/python3.9/site-packages (from scipy==1.9.1) (1.21.5)\n",
      "Installing collected packages: scipy\n",
      "  Attempting uninstall: scipy\n",
      "    Found existing installation: scipy 1.6.1\n",
      "    Uninstalling scipy-1.6.1:\n",
      "      Successfully uninstalled scipy-1.6.1\n",
      "Successfully installed scipy-1.9.1\n"
     ]
    }
   ],
   "source": [
    "!pip install scipy==1.9.1 "
   ]
  },
  {
   "cell_type": "code",
   "execution_count": 3,
   "metadata": {},
   "outputs": [
    {
     "data": {
      "text/plain": [
       "'1.9.1'"
      ]
     },
     "execution_count": 3,
     "metadata": {},
     "output_type": "execute_result"
    }
   ],
   "source": [
    "import scipy\n",
    "scipy.__version__"
   ]
  },
  {
   "cell_type": "code",
   "execution_count": 4,
   "metadata": {
    "id": "n1269wHJF96t"
   },
   "outputs": [],
   "source": [
    "# importing the important packages\n",
    "import pandas as pd  \n",
    "import numpy as np  \n",
    "import matplotlib.pyplot as plt  \n",
    "import seaborn as sns  \n",
    "\n",
    "%matplotlib inline\n",
    "\n",
    "import scipy.stats as stats  "
   ]
  },
  {
   "cell_type": "markdown",
   "metadata": {
    "id": "JFYmMSXAD5r8"
   },
   "source": [
    "An E-commerce company's dataset has a mean delivery time of 5 days for their products with a standard deviation of 1.3 days.\n",
    "\n",
    "The new customer service manager of the company is afraid that the company is slipping and collects a random sample of 45 orders. The mean delivery time of these samples comes out to be 5.25 days. \n",
    "\n",
    "We will determine if there is enough statistical evidence for the manager’s apprehension that the mean delivery time of products is greater than 5 days.\n",
    "\n",
    "We will use level of significance $\\alpha$ = 0.05"
   ]
  },
  {
   "cell_type": "markdown",
   "metadata": {
    "id": "Za3CtsidYe2a"
   },
   "source": [
    "### Z-test assumptions"
   ]
  },
  {
   "cell_type": "markdown",
   "metadata": {
    "id": "uZEqFhp8V99Y"
   },
   "source": [
    "* Samples are drawn from a normal distribution - Since the sample size is 45(which is > 30), Central Limit Theorem states that the distribution of sample means will be normal. If the sample size was less than 30, we would have been able to apply the z test if we knew that the population distribution was normal.  \n",
    "* Observations are from a simple random sample - we are informed that the manager collected a simple random sample\n",
    "* Standard deviation is known - Yes"
   ]
  },
  {
   "cell_type": "markdown",
   "metadata": {
    "id": "vI7uRPYSZDAv"
   },
   "source": [
    "### Finding Z test statistic"
   ]
  },
  {
   "cell_type": "code",
   "execution_count": 5,
   "metadata": {
    "colab": {
     "base_uri": "https://localhost:8080/"
    },
    "id": "g03yfFvoV08J",
    "outputId": "e74f78eb-40ec-42fc-9cd8-4b4397036b84"
   },
   "outputs": [
    {
     "data": {
      "text/plain": [
       "1.2900392177883402"
      ]
     },
     "execution_count": 5,
     "metadata": {},
     "output_type": "execute_result"
    }
   ],
   "source": [
    "# setting the values of population mean and population standard deviation to 5 and 1.3 respectively\n",
    "mu, sigma = 5, 1.3\n",
    "\n",
    "# set the value of sample mean to 5.25\n",
    "x_bar = 5.25\n",
    "\n",
    "# calculate the test statistic\n",
    "test_stat = (x_bar - mu) / (sigma/np.sqrt(45))\n",
    "test_stat"
   ]
  },
  {
   "cell_type": "markdown",
   "metadata": {},
   "source": [
    "x_bar mean is 1.3 standard deviations away from the population mean"
   ]
  },
  {
   "cell_type": "markdown",
   "metadata": {
    "id": "ddz-nxAuaQl1"
   },
   "source": [
    "#### The Z test statistic follows a standard normal distribution.\n",
    "\n",
    "Let's plot the distribution of the Z test statistic and see where the computed test statistic lies in the plot."
   ]
  },
  {
   "cell_type": "code",
   "execution_count": 6,
   "metadata": {
    "colab": {
     "base_uri": "https://localhost:8080/",
     "height": 265
    },
    "id": "mKW-GHiZa6DE",
    "outputId": "3144c586-6dfe-4f89-f36e-7d0b76a91dfe"
   },
   "outputs": [
    {
     "data": {
      "image/png": "[encoded data removed]",
      "text/plain": [
       "<Figure size 640x480 with 1 Axes>"
      ]
     },
     "metadata": {},
     "output_type": "display_data"
    }
   ],
   "source": [
    "# import the required function\n",
    "from scipy.stats import norm\n",
    "\n",
    "# plotting the distribution of Z test statistic along with the test statistic to better visualize the calculations\n",
    "x = np.linspace(-4, 4, 100)\n",
    "plt.plot(x, norm.pdf(x, 0, 1))\n",
    "plt.axvline(x = test_stat, c = 'r')\n",
    "plt.show()"
   ]
  },
  {
   "cell_type": "code",
   "execution_count": 7,
   "metadata": {
    "colab": {
     "base_uri": "https://localhost:8080/"
    },
    "id": "P-sbsv2ued1d",
    "outputId": "341677f8-55b8-481f-a9ae-f4211e6fc012"
   },
   "outputs": [
    {
     "data": {
      "text/plain": [
       "0.09851852092578695"
      ]
     },
     "execution_count": 7,
     "metadata": {},
     "output_type": "execute_result"
    }
   ],
   "source": [
    "1 - norm.cdf(test_stat)"
   ]
  },
  {
   "cell_type": "markdown",
   "metadata": {
    "id": "sVtMAHgbg1Ut"
   },
   "source": [
    "### Rejection Acceptance Region/ p-value"
   ]
  },
  {
   "cell_type": "markdown",
   "metadata": {
    "id": "xqqUout3gNK8"
   },
   "source": [
    "Though the probability is small, we can not conclude whether the evidence is significant enough to reject the null hypothesis in favor of alternate hypothesis or not. To determine it, we use either one of the following approaches:\n",
    "\n",
    "1- Rejection region approach\n",
    "\n",
    "2- p-value approach"
   ]
  },
  {
   "cell_type": "markdown",
   "metadata": {
    "id": "4dihfsGeO-RR"
   },
   "source": [
    "#### Rejection Region Approach\n",
    "\n",
    "For this approach, we need to follow the below steps.\n",
    "\n",
    "\n",
    "1.   We choose a value of the level of significance ($\\alpha$).\n",
    "\n",
    "     ($\\alpha$ is the probability of rejecting the null hypothesis if it is true.)\n",
    "\n",
    "2.   Then, we find the rejection region in the graph.\n",
    "\n",
    "3.   We reject the null hypothesis if the test statistic falls in the rejection region. Else, we don't reject the null hypothesis.\n",
    "\n",
    "In the given example, the Z test statistic follows a standard normal distribution as shown in the above plot. The Z values lying at the right end of the distribution give strong evidence against the null hypothesis. To find the rejection region, we will find the value of Z (called critical value) that gives an area of $\\alpha$ to the right end."
   ]
  },
  {
   "cell_type": "code",
   "execution_count": 8,
   "metadata": {
    "colab": {
     "base_uri": "https://localhost:8080/"
    },
    "id": "o_ITvMpZXLyI",
    "outputId": "4f262d0e-1caa-4a2e-8483-29db8a45b014"
   },
   "outputs": [
    {
     "data": {
      "text/plain": [
       "1.6448536269514722"
      ]
     },
     "execution_count": 8,
     "metadata": {},
     "output_type": "execute_result"
    }
   ],
   "source": [
    "from scipy.stats import norm\n",
    "\n",
    "# finding the critical value\n",
    "critical_val = norm.ppf(1-.05)\n",
    "critical_val"
   ]
  },
  {
   "cell_type": "markdown",
   "metadata": {
    "id": "pj41yWnjYKZl"
   },
   "source": [
    "The critical value separates the region where we will reject the null hypothesis from the region where we won't reject the null hypothesis. See the below plot."
   ]
  },
  {
   "cell_type": "code",
   "execution_count": 9,
   "metadata": {
    "colab": {
     "base_uri": "https://localhost:8080/",
     "height": 265
    },
    "id": "3PUG_qdLYr64",
    "outputId": "84547a58-1659-469d-f8f3-418b45b8bcc1"
   },
   "outputs": [
    {
     "data": {
      "image/png": "[encoded data removed]",
      "text/plain": [
       "<Figure size 640x480 with 1 Axes>"
      ]
     },
     "metadata": {},
     "output_type": "display_data"
    }
   ],
   "source": [
    "# plotting the test statistic distribution and indicating the rejection and acceptance region\n",
    "x = np.linspace(-4, 4, 100)\n",
    "plt.plot(x, norm.pdf(x, 0, 1))\n",
    "plt.axvline(x = critical_val, c = 'r')\n",
    "x1 = np.linspace(critical_val, 4, 50)\n",
    "plt.fill_between(x1, norm.pdf(x1, 0, 1), color='r')\n",
    "plt.annotate('Reject Null', (2, 0.20))\n",
    "plt.annotate('  Do Not Reject\\n        Null', (-1, 0.20))\n",
    "plt.show()"
   ]
  },
  {
   "cell_type": "markdown",
   "metadata": {
    "id": "mhRuynC6bRcV"
   },
   "source": [
    "### Insight\n",
    "\n",
    "As our test statistic (~ 1.29) does not lie in the rejection region, we can not reject the null hypothesis. Thus, we do not have enough statistical evidence to say that the mean delivery time of a product is greater than 5 days."
   ]
  },
  {
   "cell_type": "markdown",
   "metadata": {
    "id": "M__QsfhvzQdO"
   },
   "source": [
    "#### p-value Approach\n",
    "\n",
    "Though the rejection region approach gives us the desired conclusion, it does not say anything about the strength of the evidence. The p-value approach will measure the strength of the evidence against the null hypothesis.\n",
    "\n",
    "For this approach, we need to follow the below steps.\n",
    "\n",
    "1. We choose the level of significance ($\\alpha$)\n",
    "\n",
    "2. Then, we calculate the p-value.\n",
    "\n",
    "3. We reject the null hypothesis if p-value $\\leq \\alpha$. Else, we fail to reject the null hypothesis.\n",
    "\n",
    "The p-value is the probability of finding the observed test statistic or more extreme results, under the null hypothesis. \n",
    "\n",
    "In the given example, p-value is the area right to the test statistic under the standard normal curve.\n"
   ]
  },
  {
   "cell_type": "code",
   "execution_count": 10,
   "metadata": {
    "colab": {
     "base_uri": "https://localhost:8080/",
     "height": 265
    },
    "id": "au3_jODY1cYb",
    "outputId": "a29e8dcd-76a6-461b-91a3-d6f875597c4f"
   },
   "outputs": [
    {
     "data": {
      "image/png": "[encoded data removed]",
      "text/plain": [
       "<Figure size 640x480 with 1 Axes>"
      ]
     },
     "metadata": {},
     "output_type": "display_data"
    }
   ],
   "source": [
    "x = np.linspace(-4, 4, 100)\n",
    "plt.plot(x, norm.pdf(x, 0, 1))\n",
    "plt.axvline(x = test_stat, c = 'r')\n",
    "x1 = np.linspace(test_stat, 4, 50)\n",
    "plt.fill_between(x1, norm.pdf(x1, 0, 1), color='r')\n",
    "plt.show()"
   ]
  },
  {
   "cell_type": "code",
   "execution_count": 11,
   "metadata": {
    "colab": {
     "base_uri": "https://localhost:8080/"
    },
    "id": "Z6-VOxQqfOBF",
    "outputId": "cbfdfd12-beba-4c55-bbda-37bec6987ebf"
   },
   "outputs": [
    {
     "data": {
      "text/plain": [
       "0.09851852092578695"
      ]
     },
     "execution_count": 11,
     "metadata": {},
     "output_type": "execute_result"
    }
   ],
   "source": [
    "# calculate the p-value\n",
    "1 - norm.cdf(test_stat)"
   ]
  },
  {
   "cell_type": "markdown",
   "metadata": {
    "id": "3QCb1bK6gUTA"
   },
   "source": [
    "### Insight\n",
    "\n",
    "As the p-value ~0.098 is greater than level of significance, we can not reject the null hypothesis. Thus, we do not have enough statistical evidence to say that the mean delivery time of a product is greater than 5 days."
   ]
  },
  {
   "cell_type": "markdown",
   "metadata": {
    "id": "noTA34C4hkyx"
   },
   "source": [
    "### Key Takeaway\n",
    "\n",
    "* We get the same result by using both the Rejection Region and p-value approach that the manager does not have enough statistical evidence to say that the mean delivery time of a product is greater than 5 days."
   ]
  },
  {
   "cell_type": "markdown",
   "metadata": {
    "id": "POB5EwDV5vAS"
   },
   "source": [
    "# **One-tailed and Two-tailed Tests**"
   ]
  },
  {
   "cell_type": "markdown",
   "metadata": {
    "id": "WiaDWDy1666u"
   },
   "source": [
    "A soft-drink manufacturer's most selling product is 600 ml coke with a standard deviation of 50 ml.\n",
    "\n",
    "A customer would like to test whether there is at least 600 ml coke in the bottle. He doubts that the amount of coke in the bottle is less than 600 ml.\n",
    "\n",
    "The null hypothesis formed by the customer is\n",
    "\n",
    ">$H_0: \\mu = 600$\n",
    "\n",
    "against the alternative hypothesis\n",
    "\n",
    "> $H_a: \\mu < 600$\n",
    "\n",
    "However, the quality control team wants exactly 600 ml coke in the bottle. The team wants to ensure that the amount of coke in the bottle is not different from 600 ml.\n",
    "\n",
    "The null hypothesis formed by the quality control team is\n",
    "\n",
    ">$H_0: \\mu = 600$\n",
    "\n",
    "against the alternative hypothesis\n",
    "\n",
    "> $H_a: \\mu \\neq 600$\n",
    "\n",
    "The choice of one-sided vs two-sided alternative hypothesis depends on the nature of the problem."
   ]
  },
  {
   "cell_type": "markdown",
   "metadata": {
    "id": "GWUkM0LrCzSu"
   },
   "source": [
    "### Two-tailed Test\n",
    "\n",
    "The mean amount of coke in a bottle is 600 ml with a standard deviation of 50 ml.\n",
    "\n",
    "We have collected 36 randomly sampled bottles. The mean amount of coke in the 36 samples is 580 ml.\n",
    "\n",
    "We will test whether the amount of coke in the bottle is different from 600 ml using 0.05 level of significance."
   ]
  },
  {
   "cell_type": "markdown",
   "metadata": {
    "id": "kHPUcm3pryyd"
   },
   "source": [
    "### Assumptions of Z-test"
   ]
  },
  {
   "cell_type": "markdown",
   "metadata": {
    "id": "_NP5DlMXr2gR"
   },
   "source": [
    "*   Samples are drawn from a normal distribution - Since the sample size is 36(which is > 30), Central Limit Theorem states that the distribution of sample means will be normal. If the sample size was less than 30, we would have been able to apply the Z test if we knew that the population distribution was normal.  \n",
    "*   Observations are from a simple random sample - we are informed that you have collected a simple random sample.\n",
    "*   Standard deviation is known - Yes\n",
    "\n",
    "\n",
    "Voila! We can use Z-test for this problem."
   ]
  },
  {
   "cell_type": "markdown",
   "metadata": {
    "id": "DouBcnk2siNr"
   },
   "source": [
    "### Finding test statistic"
   ]
  },
  {
   "cell_type": "code",
   "execution_count": 12,
   "metadata": {
    "colab": {
     "base_uri": "https://localhost:8080/"
    },
    "id": "QZaRvsFXsqFm",
    "outputId": "cae555cc-7337-48be-9106-6f86a293899a"
   },
   "outputs": [
    {
     "data": {
      "text/plain": [
       "-2.4"
      ]
     },
     "execution_count": 12,
     "metadata": {},
     "output_type": "execute_result"
    }
   ],
   "source": [
    "# setting the values of population mean and standard deviation to 600 and 50 respectively\n",
    "mu, sigma = 600, 50\n",
    "\n",
    "# setting the value of sample mean to 580\n",
    "x_bar = 580\n",
    "\n",
    "# calculating the test statistic\n",
    "test_stat = (x_bar - mu) / (sigma/np.sqrt(36))\n",
    "test_stat"
   ]
  },
  {
   "cell_type": "markdown",
   "metadata": {
    "id": "z25Pi6HhtLNu"
   },
   "source": [
    "### Rejection region approach for the two-tailed test\n",
    "\n",
    "The Z test statistic follows a standard normal distribution. The Z values lying at the left and right end of the distribution give strong evidence against the null hypothesis. To find the rejection region, we will find the values of Z (called critical values) that give an area of $\\alpha/2$ to both the left and right end."
   ]
  },
  {
   "cell_type": "code",
   "execution_count": 12,
   "metadata": {
    "colab": {
     "base_uri": "https://localhost:8080/",
     "height": 265
    },
    "id": "7PGKmNzjuolm",
    "outputId": "dd95a605-b753-4545-b65c-c756f2d05c82"
   },
   "outputs": [
    {
     "data": {
      "image/png": "[encoded data removed]",
      "text/plain": [
       "<Figure size 432x288 with 1 Axes>"
      ]
     },
     "metadata": {
      "needs_background": "light"
     },
     "output_type": "display_data"
    }
   ],
   "source": [
    "# importing the required function\n",
    "from scipy.stats import norm\n",
    "\n",
    "# finding the critical values\n",
    "critical_val1 = norm.ppf(1-(0.05/2))\n",
    "critical_val2 = norm.ppf(0.05/2)\n",
    "\n",
    "# plotting the rejection and acceptance region to better visualize the calculations\n",
    "x = np.linspace(-4, 4, 100)\n",
    "plt.plot(x, norm.pdf(x, 0, 1))\n",
    "plt.axvline(x = critical_val1, c = 'r')\n",
    "x1 = np.linspace(critical_val1, 4, 50)\n",
    "plt.fill_between(x1, norm.pdf(x1, 0, 1), color='r')\n",
    "plt.axvline(x = critical_val2, c = 'r')\n",
    "x1 = np.linspace(-4, critical_val2, 50)\n",
    "plt.fill_between(x1, norm.pdf(x1, 0, 1), color='r')\n",
    "plt.annotate('Reject Null', (2.2, 0.20))\n",
    "plt.annotate('Reject Null', (-3.5, 0.20))\n",
    "plt.annotate('  Do Not Reject\\n        Null', (-1, 0.20))\n",
    "plt.show()"
   ]
  },
  {
   "cell_type": "markdown",
   "metadata": {
    "id": "1x0cXahOwHE8"
   },
   "source": [
    "As our test statistic (~-2.4) lies in the rejection region, we can reject the null hypothesis. Thus, we have enough statistical evidence to say that the amount of coke in the bottle is different from 600 ml."
   ]
  },
  {
   "cell_type": "markdown",
   "metadata": {
    "id": "9zzkUpjHPn_c"
   },
   "source": [
    "### One-tailed Test\n",
    "\n",
    "It is known that the mean amount of coke in a bottle is 600 ml with a standard deviation of 50 ml. Suppose you are a customer who wants to test whether the amount of coke in the bottle is less than 600 ml.\n",
    "\n",
    "We have have collected 36 randomly sampled bottles. The mean amount of coke in the 36 samples is 580 ml.\n",
    "\n",
    "Let us determine if we have enough statistical evidence for it."
   ]
  },
  {
   "cell_type": "markdown",
   "metadata": {
    "id": "9jeI1yRkRLN2"
   },
   "source": [
    "### Finding the test statistic and rejection region"
   ]
  },
  {
   "cell_type": "code",
   "execution_count": 13,
   "metadata": {
    "colab": {
     "base_uri": "https://localhost:8080/"
    },
    "id": "8dZr5lGzRS7R",
    "outputId": "a0f0cce5-db02-49da-935e-cefa6e09ee52"
   },
   "outputs": [
    {
     "data": {
      "text/plain": [
       "-2.4"
      ]
     },
     "execution_count": 13,
     "metadata": {},
     "output_type": "execute_result"
    }
   ],
   "source": [
    "# setting the values of population mean and standard deviation to 600 and 50 respectively\n",
    "mu, sigma = 600, 50\n",
    "\n",
    "# setting the value of sample mean to 580\n",
    "x_bar = 580\n",
    "\n",
    "# calculating the test statistic\n",
    "test_stat = (x_bar - mu) / (sigma/np.sqrt(36))\n",
    "test_stat"
   ]
  },
  {
   "cell_type": "code",
   "execution_count": 14,
   "metadata": {
    "colab": {
     "base_uri": "https://localhost:8080/",
     "height": 265
    },
    "id": "IhhNBBsuRjLI",
    "outputId": "19a188c4-a368-4525-ebb3-b61d45b393b8"
   },
   "outputs": [
    {
     "data": {
      "image/png": "[encoded data removed]",
      "text/plain": [
       "<Figure size 432x288 with 1 Axes>"
      ]
     },
     "metadata": {
      "needs_background": "light"
     },
     "output_type": "display_data"
    }
   ],
   "source": [
    "# import the required function\n",
    "from scipy.stats import norm\n",
    "\n",
    "# find the critical value\n",
    "critical_val = norm.ppf(0.05)\n",
    "\n",
    "x = np.linspace(-4, 4, 100)\n",
    "plt.plot(x, norm.pdf(x, 0, 1))\n",
    "plt.axvline(x = critical_val, c = 'r')\n",
    "x1 = np.linspace(-4, critical_val, 50)\n",
    "plt.fill_between(x1, norm.pdf(x1, 0, 1), color='r')\n",
    "plt.annotate('Reject Null', (-3.5, 0.20))\n",
    "plt.annotate('  Do Not Reject\\n        Null', (-1, 0.20))\n",
    "plt.show()"
   ]
  },
  {
   "cell_type": "markdown",
   "metadata": {
    "id": "fanaSBpeS0yQ"
   },
   "source": [
    "As our test statistic (~-2.4) lies in the rejection region, we can reject the null hypothesis. Thus, we have enough statistical evidence to say that the amount of coke in the bottle is less than from 600 ml."
   ]
  },
  {
   "cell_type": "markdown",
   "metadata": {
    "id": "8Zf1FemQ4g9t"
   },
   "source": [
    "### Key Takeaways\n",
    "\n",
    "* In one-tailed test, we consider the difference only in one direction. However, in two-tailed test, we are interested to know the direction of the difference. "
   ]
  }
 ],
 "metadata": {
  "colab": {
   "collapsed_sections": [],
   "name": "Notebook Week2.ipynb",
   "provenance": []
  },
  "kernelspec": {
   "display_name": "Python 3 (ipykernel)",
   "language": "python",
   "name": "python3"
  },
  "language_info": {
   "codemirror_mode": {
    "name": "ipython",
    "version": 3
   },
   "file_extension": ".py",
   "mimetype": "text/x-python",
   "name": "python",
   "nbconvert_exporter": "python",
   "pygments_lexer": "ipython3",
   "version": "3.9.13"
  }
 },
 "nbformat": 4,
 "nbformat_minor": 1
}
